{
 "cells": [
  {
   "cell_type": "code",
   "execution_count": 3,
   "id": "821529ef",
   "metadata": {},
   "outputs": [
    {
     "name": "stdout",
     "output_type": "stream",
     "text": [
      "x1 = [[-0.08]]\n",
      "x2 = [[0.96]]\n",
      "x3 = [[-0.16]]\n"
     ]
    }
   ],
   "source": [
    "import numpy as np\n",
    "A = np.matrix('1 3 5; 6 2 9; 2 5 4')\n",
    "B = np.matrix('2; 0; 4')\n",
    "if round(np.linalg.det(A), 3) != 0: #Проверка значения определителя. Если определитель равен 0, то систему решить нельзя.\n",
    "    A_inv = np.linalg.inv(A) #Вычисляем обратную матрицу\n",
    "    R = A_inv.dot(B) #Умножаем обратную матрицу на столбец свободных членов В и получаем решение системы\n",
    "    idx = 1\n",
    "    for elem in R: #Выводим решение\n",
    "        print(f\"x{idx} = {elem}\") \n",
    "        idx += 1"
   ]
  },
  {
   "cell_type": "code",
   "execution_count": 4,
   "id": "4fd415f7",
   "metadata": {},
   "outputs": [
    {
     "name": "stdout",
     "output_type": "stream",
     "text": [
      "x1: -0.08 \n",
      "x2: 0.96 \n",
      "x3: -0.16\n"
     ]
    }
   ],
   "source": [
    "A = np.matrix('1 3 5; 6 2 9; 2 5 4')\n",
    "B = np.matrix('2; 0; 4')\n",
    "if round(np.linalg.det(A), 3) != 0: #Проверка значения определителя. Если определитель равен 0, то систему решить нельзя.\n",
    "    C = A.copy() #Копируем матрицу для работы с первым столбцом матрицы \n",
    "    C[:, 0] = B[:, 0] #Заменяем первый столбец матрицы С на столбец свободных членов В\n",
    "    x1 = round(np.linalg.det(C), 3) / round(np.linalg.det(A), 3) #Делим определитель новой матрицы на исходную матрицу А\n",
    "    D = A.copy() #Копируем матрицу для работы со вторым столбцом матрицы \n",
    "    D[:, 1] = B[:, 0] #Заменяем второй столбец матрицы С на столбец свободных членов В\n",
    "    x2 = round(np.linalg.det(D), 3) / round(np.linalg.det(A), 3) #Делим определитель новой матрицы на исходную матрицу А\n",
    "    F = A.copy() #Копируем матрицу для работы с третьим столбцом матрицы \n",
    "    F[:, 2] = B[:, 0] #Заменяем третий столбец матрицы С на столбец свободных членов В\n",
    "    x3 = round(np.linalg.det(F), 3) / round(np.linalg.det(A), 3) #Делим определитель новой матрицы на исходную матрицу А\n",
    "   \n",
    "    print(\"x1:\", x1, \"\\nx2:\", x2, \"\\nx3:\", x3) #Выводим решение"
   ]
  },
  {
   "cell_type": "code",
   "execution_count": null,
   "id": "352b7dbe",
   "metadata": {},
   "outputs": [],
   "source": []
  }
 ],
 "metadata": {
  "kernelspec": {
   "display_name": "Python 3 (ipykernel)",
   "language": "python",
   "name": "python3"
  },
  "language_info": {
   "codemirror_mode": {
    "name": "ipython",
    "version": 3
   },
   "file_extension": ".py",
   "mimetype": "text/x-python",
   "name": "python",
   "nbconvert_exporter": "python",
   "pygments_lexer": "ipython3",
   "version": "3.9.7"
  }
 },
 "nbformat": 4,
 "nbformat_minor": 5
}

{
 "cells": [
  {
   "cell_type": "markdown",
   "id": "034c92b4",
   "metadata": {},
   "source": [
    "Свойство 1. Дважды транспонированная матрица равна исходной матрице:"
   ]
  },
  {
   "cell_type": "code",
   "execution_count": 29,
   "id": "ab309027",
   "metadata": {},
   "outputs": [
    {
     "name": "stdout",
     "output_type": "stream",
     "text": [
      "[[10  5  7]\n",
      " [13 22  4]]\n",
      "[[10  5  7]\n",
      " [13 22  4]]\n"
     ]
    }
   ],
   "source": [
    "import numpy as np\n",
    "A = np.matrix('10 5 7; 13 22 4')\n",
    "print(A)\n",
    "R = (A.T).T\n",
    "print(R)"
   ]
  },
  {
   "cell_type": "markdown",
   "id": "6b17ceae",
   "metadata": {},
   "source": [
    "Свойство 2. Транспонирование суммы матриц равно сумме транспонированных матриц:"
   ]
  },
  {
   "cell_type": "code",
   "execution_count": 3,
   "id": "36e301ce",
   "metadata": {},
   "outputs": [
    {
     "name": "stdout",
     "output_type": "stream",
     "text": [
      "[[10 22]\n",
      " [16 23]\n",
      " [10 19]]\n",
      "[[10 22]\n",
      " [16 23]\n",
      " [10 19]]\n"
     ]
    }
   ],
   "source": [
    "A = np.matrix('10 5 7; 13 22 4')\n",
    "B = np.matrix('0 11 3; 9 1 15')\n",
    "L = (A + B).T\n",
    "R = A.T + B.T\n",
    "print(L)\n",
    "print(R)"
   ]
  },
  {
   "cell_type": "markdown",
   "id": "e8231a42",
   "metadata": {},
   "source": [
    "Свойство 3. Транспонирование произведения матриц равно произведению транспонированных\n",
    "матриц расставленных в обратном порядке:"
   ]
  },
  {
   "cell_type": "code",
   "execution_count": 5,
   "id": "8a575ce2",
   "metadata": {},
   "outputs": [
    {
     "name": "stdout",
     "output_type": "stream",
     "text": [
      "[[ 45 198]\n",
      " [115 165]]\n",
      "[[ 45 198]\n",
      " [115 165]]\n"
     ]
    }
   ],
   "source": [
    "A = np.matrix('10 5 ; 13 22')\n",
    "B = np.matrix('0 11 ; 9 1')\n",
    "L = (A.dot(B)).T\n",
    "R = (B.T).dot(A.T)\n",
    "print(L)\n",
    "print(R)"
   ]
  },
  {
   "cell_type": "markdown",
   "id": "971c3435",
   "metadata": {},
   "source": [
    "Свойство 4. Транспонирование произведения матрицы на число равно произведению этого\n",
    "числа на транспонированную матрицу:"
   ]
  },
  {
   "cell_type": "code",
   "execution_count": 6,
   "id": "5c54f23f",
   "metadata": {},
   "outputs": [
    {
     "name": "stdout",
     "output_type": "stream",
     "text": [
      "[[ 70  91]\n",
      " [ 35 154]\n",
      " [ 49  28]]\n",
      "[[ 70  91]\n",
      " [ 35 154]\n",
      " [ 49  28]]\n"
     ]
    }
   ],
   "source": [
    "A = np.matrix('10 5 7; 13 22 4')\n",
    "k = 7\n",
    "L = (k * A).T\n",
    "R = k * (A.T)\n",
    "print(L)\n",
    "print(R)"
   ]
  },
  {
   "cell_type": "markdown",
   "id": "14fe1d80",
   "metadata": {},
   "source": [
    "Свойство 5. Определители исходной и транспонированной матрицы совпадают:"
   ]
  },
  {
   "cell_type": "code",
   "execution_count": 7,
   "id": "86264034",
   "metadata": {},
   "outputs": [
    {
     "name": "stdout",
     "output_type": "stream",
     "text": [
      "155\n",
      "155\n"
     ]
    }
   ],
   "source": [
    "A = np.matrix('10 5 ; 13 22')\n",
    "A_det = np.linalg.det(A)\n",
    "A_T_det = np.linalg.det(A.T)\n",
    "print(format(A_det, '.9g'))\n",
    "print(format(A_T_det, '.9g'))"
   ]
  },
  {
   "cell_type": "markdown",
   "id": "a7976169",
   "metadata": {},
   "source": [
    "Свойство 6. Произведение единицы и любой заданной матрицы равно заданной матрице:"
   ]
  },
  {
   "cell_type": "code",
   "execution_count": 8,
   "id": "a230edd7",
   "metadata": {},
   "outputs": [
    {
     "name": "stdout",
     "output_type": "stream",
     "text": [
      "[[10  5]\n",
      " [13 22]]\n",
      "[[10  5]\n",
      " [13 22]]\n"
     ]
    }
   ],
   "source": [
    "A = np.matrix('10 5 ; 13 22')\n",
    "L = 1 * A\n",
    "R = A\n",
    "print(L)\n",
    "print(R)"
   ]
  },
  {
   "cell_type": "markdown",
   "id": "8e29243a",
   "metadata": {},
   "source": [
    "Свойство 7. Произведение нуля и любой матрицы равно нулевой матрице, размерность которой\n",
    "равна исходной матрицы:"
   ]
  },
  {
   "cell_type": "code",
   "execution_count": 10,
   "id": "ef462bdd",
   "metadata": {},
   "outputs": [
    {
     "name": "stdout",
     "output_type": "stream",
     "text": [
      "[[0 0]\n",
      " [0 0]]\n",
      "[[0 0]\n",
      " [0 0]]\n"
     ]
    }
   ],
   "source": [
    "A = np.matrix('10 5 ; 13 22')\n",
    "B = np.matrix('0 0 ; 0 0')\n",
    "L = 0 * A\n",
    "R = B\n",
    "print(L)\n",
    "print(R)"
   ]
  },
  {
   "cell_type": "markdown",
   "id": "c3f49766",
   "metadata": {},
   "source": [
    "Свойство 8. Произведение матрицы на сумму чисел равно сумме произведений матрицы на\n",
    "каждое из этих чисел:"
   ]
  },
  {
   "cell_type": "code",
   "execution_count": 11,
   "id": "f71b9324",
   "metadata": {},
   "outputs": [
    {
     "name": "stdout",
     "output_type": "stream",
     "text": [
      "[[ 50  25]\n",
      " [ 65 110]]\n",
      "[[ 50  25]\n",
      " [ 65 110]]\n"
     ]
    }
   ],
   "source": [
    "A = np.matrix('10 5 ; 13 22')\n",
    "p = 2\n",
    "q = 3\n",
    "L = (p + q) * A\n",
    "R = p * A + q * A\n",
    "print(L)\n",
    "print(R)"
   ]
  },
  {
   "cell_type": "markdown",
   "id": "cab59375",
   "metadata": {},
   "source": [
    "Свойство 9. Произведение матрицы на произведение двух чисел равно произведению второго\n",
    "числа и заданной матрицы, умноженному на первое число:"
   ]
  },
  {
   "cell_type": "code",
   "execution_count": 12,
   "id": "bee36c43",
   "metadata": {},
   "outputs": [
    {
     "name": "stdout",
     "output_type": "stream",
     "text": [
      "[[ 60  30]\n",
      " [ 78 132]]\n",
      "[[ 60  30]\n",
      " [ 78 132]]\n"
     ]
    }
   ],
   "source": [
    "A = np.matrix('10 5 ; 13 22')\n",
    "p = 2\n",
    "q = 3\n",
    "L = (p * q) * A\n",
    "R = p * (q * A)\n",
    "print(L)\n",
    "print(R)"
   ]
  },
  {
   "cell_type": "markdown",
   "id": "449a339d",
   "metadata": {},
   "source": [
    "Свойство 10. Коммутативность сложения. От перестановки матриц их сумма не изменяется:"
   ]
  },
  {
   "cell_type": "code",
   "execution_count": 13,
   "id": "93695842",
   "metadata": {},
   "outputs": [
    {
     "name": "stdout",
     "output_type": "stream",
     "text": [
      "[[10 16]\n",
      " [22 23]]\n",
      "[[10 16]\n",
      " [22 23]]\n"
     ]
    }
   ],
   "source": [
    "A = np.matrix('10 5 ; 13 22')\n",
    "B = np.matrix('0 11 ; 9 1')\n",
    "L = A + B\n",
    "R = B + A\n",
    "print(L)\n",
    "print(R)"
   ]
  },
  {
   "cell_type": "markdown",
   "id": "9e4b47d9",
   "metadata": {},
   "source": [
    "Свойство 11. Ассоциативность сложения. Результат сложения трех и более матриц не зависит от\n",
    "порядка, в котором эта операция будет выполняться:"
   ]
  },
  {
   "cell_type": "code",
   "execution_count": 14,
   "id": "b9be434d",
   "metadata": {},
   "outputs": [
    {
     "name": "stdout",
     "output_type": "stream",
     "text": [
      "[[15 23]\n",
      " [41 43]]\n",
      "[[15 23]\n",
      " [41 43]]\n"
     ]
    }
   ],
   "source": [
    "A = np.matrix('10 5 ; 13 22')\n",
    "B = np.matrix('0 11 ; 9 1')\n",
    "C = np.matrix('5 7 ; 19 20')\n",
    "L = A + (B + C)\n",
    "R = (A + B) + C\n",
    "print(L)\n",
    "print(R)"
   ]
  },
  {
   "cell_type": "markdown",
   "id": "668fe55f",
   "metadata": {},
   "source": [
    "Свойство 12. Ассоциативность умножения. Результат умножения матриц не зависит от порядка, в\n",
    "котором будет выполняться эта операция:"
   ]
  },
  {
   "cell_type": "code",
   "execution_count": 15,
   "id": "3cd7b6e8",
   "metadata": {},
   "outputs": [
    {
     "name": "stdout",
     "output_type": "stream",
     "text": [
      "[[164 171]\n",
      " [266 197]]\n"
     ]
    }
   ],
   "source": [
    "A = np.matrix('10 5 7; 13 22 4')\n",
    "B = np.matrix('0 11 ; 9 1; 17 8')\n",
    "C = A.dot(B)\n",
    "print(C)"
   ]
  },
  {
   "cell_type": "code",
   "execution_count": 16,
   "id": "8d8146e3",
   "metadata": {},
   "outputs": [
    {
     "name": "stdout",
     "output_type": "stream",
     "text": [
      "[[2410 2615]\n",
      " [4125 4686]]\n",
      "[[2410 2615]\n",
      " [4125 4686]]\n"
     ]
    }
   ],
   "source": [
    "A = np.matrix('10 5 ; 13 22')\n",
    "B = np.matrix('0 11 ; 9 1')\n",
    "C = np.matrix('5 7 ; 19 20')\n",
    "L = A.dot(B.dot(C))\n",
    "R = (A.dot(B)).dot(C)\n",
    "print(L)\n",
    "print(R)"
   ]
  },
  {
   "cell_type": "markdown",
   "id": "73bf610c",
   "metadata": {},
   "source": [
    "Свойство 13. Дистрибутивность умножения. Произведение матрицы на сумму матриц равно\n",
    "сумме произведений матриц:"
   ]
  },
  {
   "cell_type": "code",
   "execution_count": 18,
   "id": "b5444106",
   "metadata": {},
   "outputs": [
    {
     "name": "stdout",
     "output_type": "stream",
     "text": [
      "[[190 285]\n",
      " [681 696]]\n",
      "[[190 285]\n",
      " [681 696]]\n"
     ]
    }
   ],
   "source": [
    "A = np.matrix('10 5 ; 13 22')\n",
    "B = np.matrix('0 11 ; 9 1')\n",
    "C = np.matrix('5 7 ; 19 20')\n",
    "L = A.dot(B + C)\n",
    "R = A.dot(B) + A.dot(C)\n",
    "print(L)\n",
    "print(R)"
   ]
  },
  {
   "cell_type": "markdown",
   "id": "7f41821e",
   "metadata": {},
   "source": [
    "Свойство 14. Если у матрицы есть строка или столбец, состоящие из нулей, то определитель\n",
    "такой матрицы равен нулю:"
   ]
  },
  {
   "cell_type": "code",
   "execution_count": 21,
   "id": "cc3adfe6",
   "metadata": {},
   "outputs": [
    {
     "name": "stdout",
     "output_type": "stream",
     "text": [
      "[[ 8 -5  7]\n",
      " [ 6 -9  4]\n",
      " [-1  8  2]]\n"
     ]
    },
    {
     "data": {
      "text/plain": [
       "-46.99999999999997"
      ]
     },
     "execution_count": 21,
     "metadata": {},
     "output_type": "execute_result"
    }
   ],
   "source": [
    "A = np.matrix('8 -5 7; 6 -9 4; -1 8 2')\n",
    "print(A)\n",
    "np.linalg.det(A)"
   ]
  },
  {
   "cell_type": "markdown",
   "id": "7a04a325",
   "metadata": {},
   "source": [
    "Свойство 15. Если все элементы строки или столбца матрицы умножить на какое-то число, то и\n",
    "определитель будет умножен на это число:"
   ]
  },
  {
   "cell_type": "code",
   "execution_count": 22,
   "id": "6d7756ac",
   "metadata": {},
   "outputs": [
    {
     "name": "stdout",
     "output_type": "stream",
     "text": [
      "[[ 8 -5  7]\n",
      " [ 6 -9  4]\n",
      " [-1  8  2]]\n",
      "[[ 8 -5  7]\n",
      " [ 6 -9  4]\n",
      " [-2 16  4]]\n"
     ]
    }
   ],
   "source": [
    "A = np.matrix('8 -5 7; 6 -9 4; -1 8 2')\n",
    "print(A)\n",
    "k = 2\n",
    "B = A.copy()\n",
    "B[2, :] = k * B[2, :]\n",
    "print(B)"
   ]
  },
  {
   "cell_type": "code",
   "execution_count": 23,
   "id": "8b5be6ca",
   "metadata": {},
   "outputs": [
    {
     "name": "stdout",
     "output_type": "stream",
     "text": [
      "-94.0\n",
      "-94.0\n"
     ]
    }
   ],
   "source": [
    "det_A = round(np.linalg.det(A), 3)\n",
    "det_B = round(np.linalg.det(B), 3)\n",
    "print(det_A * k)\n",
    "print(det_B)\n"
   ]
  },
  {
   "cell_type": "markdown",
   "id": "aaded7b9",
   "metadata": {},
   "source": [
    "Свойство 16. Если матрица содержит пропорциональные строки, то ее определитель равен нулю:"
   ]
  },
  {
   "cell_type": "code",
   "execution_count": 24,
   "id": "39753597",
   "metadata": {},
   "outputs": [
    {
     "name": "stdout",
     "output_type": "stream",
     "text": [
      "[[ 8 -5  7]\n",
      " [ 6 -9  4]\n",
      " [-1  8  2]]\n"
     ]
    },
    {
     "data": {
      "text/plain": [
       "0.0"
      ]
     },
     "execution_count": 24,
     "metadata": {},
     "output_type": "execute_result"
    }
   ],
   "source": [
    "A = np.matrix('8 -5 7; 6 -9 4; -1 8 2')\n",
    "print(A)\n",
    "k = 2\n",
    "A[1, :] = A[0, :] + k * A[2, :]\n",
    "round(np.linalg.det(A), 3)"
   ]
  },
  {
   "cell_type": "markdown",
   "id": "e8d9a94e",
   "metadata": {},
   "source": [
    "Свойство 17. Обратная матрица обратной матрицы есть исходная матрица:"
   ]
  },
  {
   "cell_type": "code",
   "execution_count": 25,
   "id": "2f0b05da",
   "metadata": {},
   "outputs": [
    {
     "name": "stdout",
     "output_type": "stream",
     "text": [
      "[[ 8 -5  7]\n",
      " [ 6 -9  4]\n",
      " [-1  8  2]]\n",
      "[[ 8. -5.  7.]\n",
      " [ 6. -9.  4.]\n",
      " [-1.  8.  2.]]\n"
     ]
    }
   ],
   "source": [
    "A = np.matrix('8 -5 7; 6 -9 4; -1 8 2')\n",
    "A_inv = np.linalg.inv(A)\n",
    "A_inv_inv = np.linalg.inv(A_inv)\n",
    "print(A)\n",
    "print(A_inv_inv)"
   ]
  },
  {
   "cell_type": "code",
   "execution_count": null,
   "id": "b3e46e97",
   "metadata": {},
   "outputs": [],
   "source": []
  },
  {
   "cell_type": "code",
   "execution_count": null,
   "id": "cd9b2f82",
   "metadata": {},
   "outputs": [],
   "source": []
  }
 ],
 "metadata": {
  "kernelspec": {
   "display_name": "Python 3 (ipykernel)",
   "language": "python",
   "name": "python3"
  },
  "language_info": {
   "codemirror_mode": {
    "name": "ipython",
    "version": 3
   },
   "file_extension": ".py",
   "mimetype": "text/x-python",
   "name": "python",
   "nbconvert_exporter": "python",
   "pygments_lexer": "ipython3",
   "version": "3.9.7"
  }
 },
 "nbformat": 4,
 "nbformat_minor": 5
}
